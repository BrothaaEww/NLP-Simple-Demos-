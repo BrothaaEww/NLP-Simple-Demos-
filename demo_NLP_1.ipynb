{
  "nbformat": 4,
  "nbformat_minor": 0,
  "metadata": {
    "colab": {
      "provenance": [],
      "include_colab_link": true
    },
    "kernelspec": {
      "name": "python3",
      "display_name": "Python 3"
    },
    "language_info": {
      "name": "python"
    }
  },
  "cells": [
    {
      "cell_type": "markdown",
      "metadata": {
        "id": "view-in-github",
        "colab_type": "text"
      },
      "source": [
        "<a href=\"https://colab.research.google.com/github/BrothaaEww/NLP-Simple-Demos-/blob/main/demo_NLP_1.ipynb\" target=\"_parent\"><img src=\"https://colab.research.google.com/assets/colab-badge.svg\" alt=\"Open In Colab\"/></a>"
      ]
    },
    {
      "cell_type": "code",
      "execution_count": null,
      "metadata": {
        "id": "UAP1P_c92lHI"
      },
      "outputs": [],
      "source": [
        "import nltk"
      ]
    },
    {
      "cell_type": "code",
      "source": [
        "nltk.download('punkt')"
      ],
      "metadata": {
        "colab": {
          "base_uri": "https://localhost:8080/"
        },
        "id": "xEdivPgX6_45",
        "outputId": "9844a2f8-34fa-4c63-9383-3d97a7f0dc85"
      },
      "execution_count": null,
      "outputs": [
        {
          "output_type": "stream",
          "name": "stderr",
          "text": [
            "[nltk_data] Downloading package punkt to /root/nltk_data...\n",
            "[nltk_data]   Package punkt is already up-to-date!\n"
          ]
        },
        {
          "output_type": "execute_result",
          "data": {
            "text/plain": [
              "True"
            ]
          },
          "metadata": {},
          "execution_count": 25
        }
      ]
    },
    {
      "cell_type": "code",
      "source": [
        "paragraph=\"\"\"Abraham Lincoln, sixteenth President of the United States, was born near Hodgenville, Kentucky on February 12, 1809. His family moved to Indiana when he was seven and he grew up on the edge of the frontier. He had very little formal education, but read voraciously when not working on his father’s farm.  A childhood friend later recalled Lincoln's \"manic\" intellect, and the sight of him red-eyed and tousle-haired as he pored over books late into the night.  In 1828, at the age of nineteen, he accompanied a produce-laden flatboat down the Mississippi River to New Orleans, Louisiana—his first visit to a large city--and then walked back home.  Two years later, trying to avoid health and finance troubles, Lincoln's father moved the family moved to Illinois.\n",
        "\n",
        "\"\"\""
      ],
      "metadata": {
        "id": "Tgazlo8E21do"
      },
      "execution_count": null,
      "outputs": []
    },
    {
      "cell_type": "code",
      "source": [
        "print(paragraph)"
      ],
      "metadata": {
        "colab": {
          "base_uri": "https://localhost:8080/"
        },
        "id": "J22N5Z3p3RAW",
        "outputId": "3f525ccb-ae68-4c5f-9b70-d17756d63de3"
      },
      "execution_count": null,
      "outputs": [
        {
          "output_type": "stream",
          "name": "stdout",
          "text": [
            "Abraham Lincoln, sixteenth President of the United States, was born near Hodgenville, Kentucky on February 12, 1809. His family moved to Indiana when he was seven and he grew up on the edge of the frontier. He had very little formal education, but read voraciously when not working on his father’s farm.  A childhood friend later recalled Lincoln's \"manic\" intellect, and the sight of him red-eyed and tousle-haired as he pored over books late into the night.  In 1828, at the age of nineteen, he accompanied a produce-laden flatboat down the Mississippi River to New Orleans, Louisiana—his first visit to a large city--and then walked back home.  Two years later, trying to avoid health and finance troubles, Lincoln's father moved the family moved to Illinois.\n",
            "\n",
            "\n"
          ]
        }
      ]
    },
    {
      "cell_type": "code",
      "source": [
        "sentence=nltk.sent_tokenize(paragraph)\n",
        "words = nltk.word_tokenize(paragraph)"
      ],
      "metadata": {
        "id": "nEpNn_9Z3VyW"
      },
      "execution_count": null,
      "outputs": []
    },
    {
      "cell_type": "code",
      "source": [
        "sentence"
      ],
      "metadata": {
        "colab": {
          "base_uri": "https://localhost:8080/"
        },
        "id": "YFzp0uFo7QhU",
        "outputId": "295d20c1-f81a-43d0-ec06-4fa2a3b561e9"
      },
      "execution_count": null,
      "outputs": [
        {
          "output_type": "execute_result",
          "data": {
            "text/plain": [
              "['Abraham Lincoln, sixteenth President of the United States, was born near Hodgenville, Kentucky on February 12, 1809.',\n",
              " 'His family moved to Indiana when he was seven and he grew up on the edge of the frontier.',\n",
              " 'He had very little formal education, but read voraciously when not working on his father’s farm.',\n",
              " 'A childhood friend later recalled Lincoln\\'s \"manic\" intellect, and the sight of him red-eyed and tousle-haired as he pored over books late into the night.',\n",
              " 'In 1828, at the age of nineteen, he accompanied a produce-laden flatboat down the Mississippi River to New Orleans, Louisiana—his first visit to a large city--and then walked back home.',\n",
              " \"Two years later, trying to avoid health and finance troubles, Lincoln's father moved the family moved to Illinois.\"]"
            ]
          },
          "metadata": {},
          "execution_count": 30
        }
      ]
    },
    {
      "cell_type": "code",
      "source": [
        "words"
      ],
      "metadata": {
        "colab": {
          "base_uri": "https://localhost:8080/"
        },
        "id": "kV9prGLQ7YQJ",
        "outputId": "3b893466-2875-474a-d240-84f94c9c0a45"
      },
      "execution_count": null,
      "outputs": [
        {
          "output_type": "execute_result",
          "data": {
            "text/plain": [
              "['Abraham',\n",
              " 'Lincoln',\n",
              " ',',\n",
              " 'sixteenth',\n",
              " 'President',\n",
              " 'of',\n",
              " 'the',\n",
              " 'United',\n",
              " 'States',\n",
              " ',',\n",
              " 'was',\n",
              " 'born',\n",
              " 'near',\n",
              " 'Hodgenville',\n",
              " ',',\n",
              " 'Kentucky',\n",
              " 'on',\n",
              " 'February',\n",
              " '12',\n",
              " ',',\n",
              " '1809',\n",
              " '.',\n",
              " 'His',\n",
              " 'family',\n",
              " 'moved',\n",
              " 'to',\n",
              " 'Indiana',\n",
              " 'when',\n",
              " 'he',\n",
              " 'was',\n",
              " 'seven',\n",
              " 'and',\n",
              " 'he',\n",
              " 'grew',\n",
              " 'up',\n",
              " 'on',\n",
              " 'the',\n",
              " 'edge',\n",
              " 'of',\n",
              " 'the',\n",
              " 'frontier',\n",
              " '.',\n",
              " 'He',\n",
              " 'had',\n",
              " 'very',\n",
              " 'little',\n",
              " 'formal',\n",
              " 'education',\n",
              " ',',\n",
              " 'but',\n",
              " 'read',\n",
              " 'voraciously',\n",
              " 'when',\n",
              " 'not',\n",
              " 'working',\n",
              " 'on',\n",
              " 'his',\n",
              " 'father',\n",
              " '’',\n",
              " 's',\n",
              " 'farm',\n",
              " '.',\n",
              " 'A',\n",
              " 'childhood',\n",
              " 'friend',\n",
              " 'later',\n",
              " 'recalled',\n",
              " 'Lincoln',\n",
              " \"'s\",\n",
              " '``',\n",
              " 'manic',\n",
              " \"''\",\n",
              " 'intellect',\n",
              " ',',\n",
              " 'and',\n",
              " 'the',\n",
              " 'sight',\n",
              " 'of',\n",
              " 'him',\n",
              " 'red-eyed',\n",
              " 'and',\n",
              " 'tousle-haired',\n",
              " 'as',\n",
              " 'he',\n",
              " 'pored',\n",
              " 'over',\n",
              " 'books',\n",
              " 'late',\n",
              " 'into',\n",
              " 'the',\n",
              " 'night',\n",
              " '.',\n",
              " 'In',\n",
              " '1828',\n",
              " ',',\n",
              " 'at',\n",
              " 'the',\n",
              " 'age',\n",
              " 'of',\n",
              " 'nineteen',\n",
              " ',',\n",
              " 'he',\n",
              " 'accompanied',\n",
              " 'a',\n",
              " 'produce-laden',\n",
              " 'flatboat',\n",
              " 'down',\n",
              " 'the',\n",
              " 'Mississippi',\n",
              " 'River',\n",
              " 'to',\n",
              " 'New',\n",
              " 'Orleans',\n",
              " ',',\n",
              " 'Louisiana—his',\n",
              " 'first',\n",
              " 'visit',\n",
              " 'to',\n",
              " 'a',\n",
              " 'large',\n",
              " 'city',\n",
              " '--',\n",
              " 'and',\n",
              " 'then',\n",
              " 'walked',\n",
              " 'back',\n",
              " 'home',\n",
              " '.',\n",
              " 'Two',\n",
              " 'years',\n",
              " 'later',\n",
              " ',',\n",
              " 'trying',\n",
              " 'to',\n",
              " 'avoid',\n",
              " 'health',\n",
              " 'and',\n",
              " 'finance',\n",
              " 'troubles',\n",
              " ',',\n",
              " 'Lincoln',\n",
              " \"'s\",\n",
              " 'father',\n",
              " 'moved',\n",
              " 'the',\n",
              " 'family',\n",
              " 'moved',\n",
              " 'to',\n",
              " 'Illinois',\n",
              " '.']"
            ]
          },
          "metadata": {},
          "execution_count": 31
        }
      ]
    },
    {
      "cell_type": "code",
      "source": [
        "from nltk.stem import PorterStemmer\n",
        "from nltk.corpus import stopwords\n",
        "nltk.download('stopwords')\n",
        "\n"
      ],
      "metadata": {
        "colab": {
          "base_uri": "https://localhost:8080/"
        },
        "id": "6trXy3Ci7zmG",
        "outputId": "e01b1e09-7042-43e8-8b98-db44bb007a5d"
      },
      "execution_count": null,
      "outputs": [
        {
          "output_type": "stream",
          "name": "stderr",
          "text": [
            "[nltk_data] Downloading package stopwords to /root/nltk_data...\n",
            "[nltk_data]   Unzipping corpora/stopwords.zip.\n"
          ]
        },
        {
          "output_type": "execute_result",
          "data": {
            "text/plain": [
              "True"
            ]
          },
          "metadata": {},
          "execution_count": 35
        }
      ]
    },
    {
      "cell_type": "code",
      "source": [
        "stemmer=PorterStemmer()"
      ],
      "metadata": {
        "id": "CTYhA__68Nu5"
      },
      "execution_count": null,
      "outputs": []
    },
    {
      "cell_type": "code",
      "source": [
        "for i in range(len(sentence)):\n",
        "  words=nltk.word_tokenize(sentence[i])\n",
        "  words=[stemmer.stem(word) for word in words if word not in set(stopwords.words('english'))]\n",
        "  sentence[i]=' '.join(words)\n"
      ],
      "metadata": {
        "id": "Pmaf7Z0x8Vle"
      },
      "execution_count": null,
      "outputs": []
    },
    {
      "cell_type": "code",
      "source": [
        "sentence"
      ],
      "metadata": {
        "colab": {
          "base_uri": "https://localhost:8080/"
        },
        "id": "R9ts8BQW9xLu",
        "outputId": "8c2d38cd-4e96-426b-9409-c15f38647e7e"
      },
      "execution_count": null,
      "outputs": [
        {
          "output_type": "execute_result",
          "data": {
            "text/plain": [
              "['abraham lincoln , sixteenth presid unit state , born near hodgenvil , kentucki februari 12 , 1809 .',\n",
              " 'hi famili move indiana seven grew edg frontier .',\n",
              " 'he littl formal educ , read voraci work father ’ farm .',\n",
              " \"a childhood friend later recal lincoln 's `` manic '' intellect , sight red-ey tousle-hair pore book late night .\",\n",
              " 'in 1828 , age nineteen , accompani produce-laden flatboat mississippi river new orlean , louisiana—hi first visit larg citi -- walk back home .',\n",
              " \"two year later , tri avoid health financ troubl , lincoln 's father move famili move illinoi .\"]"
            ]
          },
          "metadata": {},
          "execution_count": 39
        }
      ]
    },
    {
      "cell_type": "code",
      "source": [
        "words"
      ],
      "metadata": {
        "colab": {
          "base_uri": "https://localhost:8080/"
        },
        "id": "2PNMg6_r99Lm",
        "outputId": "dccd97d4-2dbf-4b94-bc67-22a46443e324"
      },
      "execution_count": null,
      "outputs": [
        {
          "output_type": "execute_result",
          "data": {
            "text/plain": [
              "['two',\n",
              " 'year',\n",
              " 'later',\n",
              " ',',\n",
              " 'tri',\n",
              " 'avoid',\n",
              " 'health',\n",
              " 'financ',\n",
              " 'troubl',\n",
              " ',',\n",
              " 'lincoln',\n",
              " \"'s\",\n",
              " 'father',\n",
              " 'move',\n",
              " 'famili',\n",
              " 'move',\n",
              " 'illinoi',\n",
              " '.']"
            ]
          },
          "metadata": {},
          "execution_count": 40
        }
      ]
    },
    {
      "cell_type": "code",
      "source": [
        "import nltk\n",
        "from nltk.stem import WordNetLemmatizer\n",
        "nltk.download('wordnet')\n"
      ],
      "metadata": {
        "colab": {
          "base_uri": "https://localhost:8080/"
        },
        "id": "GhCFLMpi-CEl",
        "outputId": "3cd131ef-f53c-4345-a43c-655ccddc0069"
      },
      "execution_count": null,
      "outputs": [
        {
          "output_type": "stream",
          "name": "stderr",
          "text": [
            "[nltk_data] Downloading package wordnet to /root/nltk_data...\n",
            "[nltk_data]   Package wordnet is already up-to-date!\n"
          ]
        },
        {
          "output_type": "execute_result",
          "data": {
            "text/plain": [
              "True"
            ]
          },
          "metadata": {},
          "execution_count": 61
        }
      ]
    },
    {
      "cell_type": "code",
      "source": [
        "paragraph=\"\"\"A.P.J. Abdul Kalam, (born Oct. 15, 1931, Rameswaram, India—died July 27, 2015, Shillong), Indian president (2002–07). After graduating from the Madras Institute of Technology, Kalam played a leading role in the development of India’s missile and nuclear weapons programs. He planned a program that produced a number of successful missiles, helping earn him the nickname “Missile Man.” Beginning in the early 1990s, he also served as scientific adviser to the government, and his prominent role in India’s 1998 nuclear weapons tests established Kalam as a national hero. In 2002 the Hindu nationalist (Hindutva) National Democratic Alliance nominated Kalam, a Muslim, to succeed outgoing President K.R. Narayanan. Kalam easily won the elections in 2002, and in the largely ceremonial post he sought to use science and technology to transform India into a developed country. In 2007 he was succeeded by Pratibha Patil, the country’s first woman president.\"\"\"\n",
        "\n"
      ],
      "metadata": {
        "id": "vECVK8XkBPQg"
      },
      "execution_count": null,
      "outputs": []
    },
    {
      "cell_type": "code",
      "source": [
        "sentence=nltk.sent_tokenize(paragraph)\n",
        "lematizer=WordNetLemmatizer()"
      ],
      "metadata": {
        "id": "aUG0aDgw_7pn"
      },
      "execution_count": null,
      "outputs": []
    },
    {
      "cell_type": "code",
      "source": [
        "for i in range(len(sentence)):\n",
        "  words=nltk.word_tokenize(sentence[i])\n",
        "  words=[lematizer.lemmatize(word) for word in words if word not in set(stopwords.words('english'))]\n",
        "  sentence[i]=' '.join(words)"
      ],
      "metadata": {
        "id": "CbwbBrYuAFti"
      },
      "execution_count": null,
      "outputs": []
    },
    {
      "cell_type": "code",
      "source": [
        "sentence"
      ],
      "metadata": {
        "colab": {
          "base_uri": "https://localhost:8080/"
        },
        "id": "rvUa9GnYAzYS",
        "outputId": "8ea503f2-375a-4f06-fe15-04167dafc628"
      },
      "execution_count": null,
      "outputs": [
        {
          "output_type": "execute_result",
          "data": {
            "text/plain": [
              "['A.P.J .',\n",
              " 'Abdul Kalam , ( born Oct. 15 , 1931 , Rameswaram , India—died July 27 , 2015 , Shillong ) , Indian president ( 2002–07 ) .',\n",
              " 'After graduating Madras Institute Technology , Kalam played leading role development India ’ missile nuclear weapon program .',\n",
              " 'He planned program produced number successful missile , helping earn nickname “ Missile Man. ” Beginning early 1990s , also served scientific adviser government , prominent role India ’ 1998 nuclear weapon test established Kalam national hero .',\n",
              " 'In 2002 Hindu nationalist ( Hindutva ) National Democratic Alliance nominated Kalam , Muslim , succeed outgoing President K.R .',\n",
              " 'Narayanan .',\n",
              " 'Kalam easily election 2002 , largely ceremonial post sought use science technology transform India developed country .',\n",
              " 'In 2007 succeeded Pratibha Patil , country ’ first woman president .']"
            ]
          },
          "metadata": {},
          "execution_count": 65
        }
      ]
    },
    {
      "cell_type": "code",
      "source": [
        "words"
      ],
      "metadata": {
        "colab": {
          "base_uri": "https://localhost:8080/"
        },
        "id": "mbg3hSkPA7zC",
        "outputId": "e6a896db-cf4a-482f-f635-53a2b6f34501"
      },
      "execution_count": null,
      "outputs": [
        {
          "output_type": "execute_result",
          "data": {
            "text/plain": [
              "['In',\n",
              " '2007',\n",
              " 'succeeded',\n",
              " 'Pratibha',\n",
              " 'Patil',\n",
              " ',',\n",
              " 'country',\n",
              " '’',\n",
              " 'first',\n",
              " 'woman',\n",
              " 'president',\n",
              " '.']"
            ]
          },
          "metadata": {},
          "execution_count": 66
        }
      ]
    }
  ]
}