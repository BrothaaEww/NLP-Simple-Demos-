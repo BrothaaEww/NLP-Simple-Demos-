{
  "cells": [
    {
      "cell_type": "markdown",
      "metadata": {
        "id": "view-in-github",
        "colab_type": "text"
      },
      "source": [
        "<a href=\"https://colab.research.google.com/github/BrothaaEww/NLP-Simple-Demos-/blob/main/demo_NLP_3.ipynb\" target=\"_parent\"><img src=\"https://colab.research.google.com/assets/colab-badge.svg\" alt=\"Open In Colab\"/></a>"
      ]
    },
    {
      "cell_type": "code",
      "execution_count": null,
      "metadata": {
        "id": "EJNyfsqcJl7B"
      },
      "outputs": [],
      "source": [
        "import nltk\n",
        "from gensim.models import Word2Vec"
      ]
    },
    {
      "cell_type": "code",
      "execution_count": null,
      "metadata": {
        "id": "Kf6qjffiLCkv"
      },
      "outputs": [],
      "source": [
        "import re"
      ]
    },
    {
      "cell_type": "code",
      "execution_count": null,
      "metadata": {
        "colab": {
          "base_uri": "https://localhost:8080/"
        },
        "id": "nGc20tGDJ1Qg",
        "outputId": "f6c2cd1e-610b-4ae1-c085-2bfa8a5ced3b"
      },
      "outputs": [
        {
          "name": "stderr",
          "output_type": "stream",
          "text": [
            "[nltk_data] Downloading package punkt to /root/nltk_data...\n",
            "[nltk_data]   Unzipping tokenizers/punkt.zip.\n"
          ]
        },
        {
          "data": {
            "text/plain": [
              "True"
            ]
          },
          "execution_count": 3,
          "metadata": {},
          "output_type": "execute_result"
        }
      ],
      "source": [
        "nltk.download('punkt')"
      ]
    },
    {
      "cell_type": "code",
      "execution_count": null,
      "metadata": {
        "id": "7gvhANuRJ129"
      },
      "outputs": [],
      "source": [
        "paragraph=\"\"\"I have three visions for India.In 3000 years of our history, people from allover the world have come and invaded us, captured our lands, conquered our minds. From Alexander onwards. The Greeks, the Portuguese, the British, the French, the Dutch, all of them came and looted us, took over what was ours. Yet we have not done this to any other nation. We have not conquered anyone. We have not grabbed their land, their culture, their history tried to enforce our way of life on them. Why? Because we respect the freedom of others.That is why my first vision is that of FREEDOM.I believe that India got its first vision of this in 1857, when we started the war of independence. It is this freedom that we must protect and nurture and built on. If we are not free, no one will respect us.My second vision for India is DEVELOPMENT.For fifty years we have been a developing nation. It is time we see ourselves as a developed nation. We are among top 5 nations of the world in terms of GDP. We have 10 percent growth rate in most areas. Our poverty levels are falling, our achievements are being globally recognized today. Yet we lack the self-confidence to see ourselves as a developed nation, self reliant and self assured. Isn't this right?I have a third vision. The India must stand up to the world. Because I believe that unless India stands up to the world, no one will respect us. Only strength respects strength. We must be strong not only as a military power but also as an economic power. Both must go hand-in-hand.My good fortune was to have work with three great minds. Dr Vikram Sarabhai of the Dept. of space, Professor Satish Dhawan, who succeeded him, and Dr.Brahm Prakash, father of nuclear material. I was lucky to have worked with all three of them closely and consider this the great opportunity of my life.I see four milestones in my career:ONE: Twenty years I spent in ISRO. I was given the opportunity to be the project director for India's first satellite launch vehicle, SLV3. The one that launched Rohini. These years played a very important role in my life of Scientist.TWO: After my ISRO years, I joined DRDO and got a chance to be the part of India's guided missile program. It was my second bliss when Agni met its mission requirements in 1994.THREE: The Dept. of Atomic Energy and DRDO had this tremendous partnership in the recent nuclear tests, on May 11 and 13. This was the third bliss. The joy of participating with my team in these nuclear tests and proving to the world that India can make it.That we are no longer a developing nation but one of them. It made me feel very proud as an Indian. The fact that we have now developed for Agni a re-entry structure, for which we have developed this new material. A Very light material called carbon-carbon.FOUR: One day an orthopaedic surgeon from Nizam institute of Medical Sciences visited my laboratory. He lifted the material and found it so light that he took me to his hospital and showed me his patients. There were these little girls and boys with heavy metallic calipers weighing over three Kgs. each, dragging their feet around. He said to me: Please remove the pain of my patients. In three weeks, we made these Floor reaction Orthosis 300 gram calipers and took them to the orthopaedic center. The children didn't believe their eyes. From dragging around a three kg. load on their legs, they could now move around! Their parents had tears in their eyes. That was my forth bliss! Why is the media here so negative? Why are we in India so embarrassed to recognize our own strengths, our achievements? We are such a great nation. We have so many amazing success stories but we refuse to acknowledge them. Why? We are the second largest producer of wheat in the world. We are the second largest producers in rice. We are the first in milk production. We are number one in Remote sensing satellites. Look at Dr. Sudarshan, he has transferred the tribal village into a self-sustaining, self-driving unit. There are millions of such achievements but our media is only obsessed with the bad news and failures and disasters. I was in Tel Aviv once and I was reading the Israeli newspaper. It was the day after a lot of attacks and bombardments and deaths had taken place. The Hamas had struck. But the front page of the newspaper had the picture of a Jewish gentleman who in five years had transformed his desert land into an orchid and a granary. It was this inspiring picture that everyone woke up to. The gory details of killings, bombardments, deaths, were inside in the newspaper, buried among other news. In India we only read about death, sickness, terrorism, crime. Why are we so negative? Another question: Why are we, as a nation so obsessed with foreign things? we want foreign TVs, we want foreign shirts. We want foreign technology. Why this obsession with everything imported? Do we not realize that self-respect comes with self-reliance?I was in Hyderabad giving this lecture, when a 14 year oldgirl asked me for my autograph. I asked her what her goal in life is: She replied: \"I want to live in a developed India.\" For her, you, and I will have to build this developed India.\n",
        "\n",
        "\"\"\""
      ]
    },
    {
      "cell_type": "code",
      "execution_count": null,
      "metadata": {
        "colab": {
          "base_uri": "https://localhost:8080/"
        },
        "id": "hrjlVd37LEMJ",
        "outputId": "faf62c1b-f3d4-4053-a6d7-67f38ce37633"
      },
      "outputs": [
        {
          "name": "stderr",
          "output_type": "stream",
          "text": [
            "[nltk_data] Downloading package stopwords to /root/nltk_data...\n",
            "[nltk_data]   Unzipping corpora/stopwords.zip.\n"
          ]
        },
        {
          "data": {
            "text/plain": [
              "True"
            ]
          },
          "execution_count": 5,
          "metadata": {},
          "output_type": "execute_result"
        }
      ],
      "source": [
        "from nltk.corpus import stopwords\n",
        "nltk.download('stopwords')\n"
      ]
    },
    {
      "cell_type": "code",
      "execution_count": null,
      "metadata": {
        "id": "CdjTJT_UMcPn"
      },
      "outputs": [],
      "source": [
        "text=re.sub(r'[\\[0-9]*\\]',' ',paragraph)\n",
        "text=re.sub(r'\\s+',',',text)\n",
        "text=text.lower()\n",
        "text=re.sub(r'\\d+',',',text)\n",
        "text=re.sub(r'\\s+',',',text)"
      ]
    },
    {
      "cell_type": "code",
      "execution_count": null,
      "metadata": {
        "id": "fyrMhgKpVHvc"
      },
      "outputs": [],
      "source": [
        "sentences=nltk.sent_tokenize(text)\n",
        "\n"
      ]
    },
    {
      "cell_type": "code",
      "execution_count": null,
      "metadata": {
        "id": "d-fGgqlRWnbN"
      },
      "outputs": [],
      "source": [
        "sentences=[nltk.word_tokenize(sentence)  for sentence in sentences]\n"
      ]
    },
    {
      "cell_type": "code",
      "execution_count": null,
      "metadata": {
        "id": "bbVDxin9XlIH"
      },
      "outputs": [],
      "source": [
        "for i in range(len(sentences)):\n",
        "  sentences[i]= [word for word in sentences[i] if word not in stopwords.words('english')]\n"
      ]
    },
    {
      "cell_type": "code",
      "execution_count": null,
      "metadata": {
        "id": "SOBSL1hnYZP4"
      },
      "outputs": [],
      "source": [
        "model=Word2Vec(sentences,min_count=1)\n",
        "words=model.build_vocab"
      ]
    },
    {
      "cell_type": "code",
      "execution_count": null,
      "metadata": {
        "colab": {
          "background_save": true
        },
        "id": "JWdZo5rxYoDm"
      },
      "outputs": [],
      "source": [
        "vector=model.wv['vikram']"
      ]
    },
    {
      "cell_type": "code",
      "execution_count": null,
      "metadata": {
        "id": "n7PTZHRZNcT3"
      },
      "outputs": [],
      "source": [
        "from sklearn.feature_extraction.text import CountVectorizer\n",
        "\n",
        "cv=CountVectorizer(max_features=1500)\n",
        "\n",
        "x=cv.fit_transform(corpus)"
      ]
    },
    {
      "cell_type": "code",
      "execution_count": null,
      "metadata": {
        "colab": {
          "base_uri": "https://localhost:8080/"
        },
        "id": "92Cd5SOjPSUG",
        "outputId": "25ed06f8-e93f-44c9-e436-d6d7d8b03395"
      },
      "outputs": [
        {
          "name": "stdout",
          "output_type": "stream",
          "text": [
            "[[0 0 0 ... 1 1 0]\n",
            " [0 0 0 ... 0 0 0]\n",
            " [0 0 0 ... 0 0 0]\n",
            " ...\n",
            " [0 0 0 ... 0 1 0]\n",
            " [0 0 0 ... 0 0 0]\n",
            " [0 0 0 ... 0 0 0]]\n"
          ]
        }
      ],
      "source": [
        "print(x.toarray())"
      ]
    },
    {
      "cell_type": "code",
      "execution_count": null,
      "metadata": {
        "id": "4J73B2WeQiCz"
      },
      "outputs": [],
      "source": [
        "from sklearn.feature_extraction.text import TfidfVectorizer\n",
        "\n",
        "cv=TfidfVectorizer()\n",
        "\n",
        "x=cv.fit_transform(corpus)"
      ]
    },
    {
      "cell_type": "code",
      "execution_count": null,
      "metadata": {
        "colab": {
          "base_uri": "https://localhost:8080/"
        },
        "id": "-rwyWukoQ0HF",
        "outputId": "7571b82e-d380-4448-ee04-e4f6eea49f9d"
      },
      "outputs": [
        {
          "name": "stdout",
          "output_type": "stream",
          "text": [
            "[[0.         0.         0.         ... 0.22327908 0.22327908 0.        ]\n",
            " [0.         0.         0.         ... 0.         0.         0.        ]\n",
            " [0.         0.         0.         ... 0.         0.         0.        ]\n",
            " ...\n",
            " [0.         0.         0.         ... 0.         0.20413421 0.        ]\n",
            " [0.         0.         0.         ... 0.         0.         0.        ]\n",
            " [0.         0.         0.         ... 0.         0.         0.        ]]\n"
          ]
        }
      ],
      "source": [
        "print(x.toarray())"
      ]
    },
    {
      "cell_type": "code",
      "execution_count": null,
      "metadata": {
        "colab": {
          "base_uri": "https://localhost:8080/"
        },
        "id": "5Hzbo-zjQ7-0",
        "outputId": "7ddecf56-b835-4168-8b53-e4bcbbd58189"
      },
      "outputs": [
        {
          "name": "stdout",
          "output_type": "stream",
          "text": [
            "  (0, 162)\t0.28031767314443873\n",
            "  (0, 40)\t0.28031767314443873\n",
            "  (0, 131)\t0.2609514242919416\n",
            "  (0, 31)\t0.30761286786305825\n",
            "  (0, 121)\t0.30761286786305825\n",
            "  (0, 38)\t0.28031767314443873\n",
            "  (0, 299)\t0.22327907815448747\n",
            "  (0, 4)\t0.30761286786305825\n",
            "  (0, 193)\t0.30761286786305825\n",
            "  (0, 110)\t0.28031767314443873\n",
            "  (0, 300)\t0.22327907815448747\n",
            "  (0, 116)\t0.1816064523378156\n",
            "  (0, 288)\t0.2459297946583979\n",
            "  (0, 270)\t0.21428998072082503\n",
            "  (1, 180)\t0.7071067811865476\n",
            "  (1, 3)\t0.7071067811865476\n",
            "  (2, 273)\t0.30532114315114034\n",
            "  (2, 146)\t0.35991645847035125\n",
            "  (2, 30)\t0.35991645847035125\n",
            "  (2, 61)\t0.35991645847035125\n",
            "  (2, 87)\t0.35991645847035125\n",
            "  (2, 24)\t0.35991645847035125\n",
            "  (2, 199)\t0.35991645847035125\n",
            "  (2, 104)\t0.35991645847035125\n",
            "  (3, 167)\t0.44423574187232023\n",
            "  :\t:\n",
            "  (66, 68)\t0.5773502691896257\n",
            "  (66, 177)\t0.5773502691896257\n",
            "  (67, 16)\t0.2812368784188397\n",
            "  (67, 12)\t0.2562820856891796\n",
            "  (67, 178)\t0.2812368784188397\n",
            "  (67, 135)\t0.2812368784188397\n",
            "  (67, 93)\t0.2812368784188397\n",
            "  (67, 112)\t0.2812368784188397\n",
            "  (67, 221)\t0.2812368784188397\n",
            "  (67, 216)\t0.2812368784188397\n",
            "  (67, 240)\t0.47715275694830106\n",
            "  (67, 227)\t0.21362158574449042\n",
            "  (67, 38)\t0.2562820856891796\n",
            "  (67, 300)\t0.2041342138663676\n",
            "  (68, 142)\t0.40440096077596643\n",
            "  (68, 225)\t0.40440096077596643\n",
            "  (68, 96)\t0.40440096077596643\n",
            "  (68, 12)\t0.36851753676494375\n",
            "  (68, 290)\t0.3430578422567713\n",
            "  (68, 50)\t0.3071744182457486\n",
            "  (68, 138)\t0.3233097689774371\n",
            "  (68, 116)\t0.23874756709209544\n",
            "  (69, 25)\t0.7206562389972188\n",
            "  (69, 50)\t0.5473952399726734\n",
            "  (69, 116)\t0.4254562685513552\n"
          ]
        }
      ],
      "source": [
        "print(x)"
      ]
    },
    {
      "cell_type": "code",
      "execution_count": null,
      "metadata": {
        "id": "9Vm7rgUxSi9o"
      },
      "outputs": [],
      "source": []
    },
    {
      "cell_type": "code",
      "execution_count": null,
      "metadata": {
        "id": "PBds-wPvUPru"
      },
      "outputs": [],
      "source": []
    },
    {
      "cell_type": "code",
      "execution_count": null,
      "metadata": {
        "colab": {
          "base_uri": "https://localhost:8080/"
        },
        "id": "MGcqbYwoS8kO",
        "outputId": "68fe8112-bd0c-4f93-9d9a-c5c88218ac41"
      },
      "outputs": [
        {
          "name": "stderr",
          "output_type": "stream",
          "text": [
            "WARNING:gensim.models.word2vec:Each 'sentences' item should be a list of words (usually unicode strings). First item here is instead plain <class 'str'>.\n"
          ]
        }
      ],
      "source": [
        "model=Word2Vec(corpus,min_count=1)"
      ]
    }
  ],
  "metadata": {
    "colab": {
      "provenance": [],
      "include_colab_link": true
    },
    "kernelspec": {
      "display_name": "Python 3",
      "name": "python3"
    },
    "language_info": {
      "name": "python"
    }
  },
  "nbformat": 4,
  "nbformat_minor": 0
}